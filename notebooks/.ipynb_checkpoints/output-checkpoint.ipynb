{
 "cells": [
  {
   "cell_type": "code",
   "execution_count": 1,
   "metadata": {
    "execution": {
     "iopub.execute_input": "2020-11-30T16:17:12.448845Z",
     "iopub.status.busy": "2020-11-30T16:17:12.445291Z",
     "iopub.status.idle": "2020-11-30T16:17:12.457077Z",
     "shell.execute_reply": "2020-11-30T16:17:12.459873Z"
    },
    "papermill": {
     "duration": 0.047484,
     "end_time": "2020-11-30T16:17:12.460917",
     "exception": false,
     "start_time": "2020-11-30T16:17:12.413433",
     "status": "completed"
    },
    "tags": []
   },
   "outputs": [
    {
     "name": "stdout",
     "output_type": "stream",
     "text": [
      "Hi, pepe from notebook\n"
     ]
    }
   ],
   "source": [
    "print(\"Hi, pepe from notebook\")"
   ]
  }
 ],
 "metadata": {
  "kernelspec": {
   "display_name": "Python 3",
   "language": "python",
   "name": "python3"
  },
  "language_info": {
   "codemirror_mode": {
    "name": "ipython",
    "version": 3
   },
   "file_extension": ".py",
   "mimetype": "text/x-python",
   "name": "python",
   "nbconvert_exporter": "python",
   "pygments_lexer": "ipython3",
   "version": "3.8.3"
  },
  "papermill": {
   "default_parameters": {},
   "duration": 0.864112,
   "end_time": "2020-11-30T16:17:12.778927",
   "environment_variables": {},
   "exception": null,
   "input_path": "notebooks/temp.ipynb",
   "output_path": "notebooks/output.ipynb",
   "parameters": {},
   "start_time": "2020-11-30T16:17:11.914815",
   "version": "2.2.2"
  }
 },
 "nbformat": 4,
 "nbformat_minor": 4
}

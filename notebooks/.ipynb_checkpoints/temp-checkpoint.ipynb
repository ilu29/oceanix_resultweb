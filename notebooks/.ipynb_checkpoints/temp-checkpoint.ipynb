{
 "cells": [
  {
   "cell_type": "code",
   "execution_count": 1,
   "metadata": {
    "execution": {
     "iopub.execute_input": "2020-11-19T11:54:28.598693Z",
     "iopub.status.busy": "2020-11-19T11:54:28.597655Z",
     "iopub.status.idle": "2020-11-19T11:54:28.601372Z",
     "shell.execute_reply": "2020-11-19T11:54:28.600370Z"
    },
    "papermill": {
     "duration": 0.014211,
     "end_time": "2020-11-19T11:54:28.601628",
     "exception": false,
     "start_time": "2020-11-19T11:54:28.587417",
     "status": "completed"
    },
    "tags": [
     "injected-parameters"
    ]
   },
   "outputs": [],
   "source": [
    "# Parameters\n",
    "alpha = 0.6\n",
    "ratio = 0.1\n"
   ]
  },
  {
   "cell_type": "code",
   "execution_count": 2,
   "metadata": {
    "execution": {
     "iopub.execute_input": "2020-11-19T11:54:28.618612Z",
     "iopub.status.busy": "2020-11-19T11:54:28.617388Z",
     "iopub.status.idle": "2020-11-19T11:54:28.622583Z",
     "shell.execute_reply": "2020-11-19T11:54:28.621561Z"
    },
    "papermill": {
     "duration": 0.015789,
     "end_time": "2020-11-19T11:54:28.622806",
     "exception": false,
     "start_time": "2020-11-19T11:54:28.607017",
     "status": "completed"
    },
    "tags": []
   },
   "outputs": [
    {
     "name": "stdout",
     "output_type": "stream",
     "text": [
      "Hi, pepe from notebook\n"
     ]
    }
   ],
   "source": [
    "print(\"Hi, pepe from notebook\")"
   ]
  },
  {
   "cell_type": "code",
   "execution_count": null,
   "metadata": {
    "papermill": {
     "duration": 0.004761,
     "end_time": "2020-11-19T11:54:28.633146",
     "exception": false,
     "start_time": "2020-11-19T11:54:28.628385",
     "status": "completed"
    },
    "tags": []
   },
   "outputs": [],
   "source": []
  }
 ],
 "metadata": {
  "kernelspec": {
   "display_name": "Python 3",
   "language": "python",
   "name": "python3"
  },
  "language_info": {
   "codemirror_mode": {
    "name": "ipython",
    "version": 3
   },
   "file_extension": ".py",
   "mimetype": "text/x-python",
   "name": "python",
   "nbconvert_exporter": "python",
   "pygments_lexer": "ipython3",
   "version": "3.8.3"
  },
  "papermill": {
   "default_parameters": {},
   "duration": 0.980004,
   "end_time": "2020-11-19T11:54:28.950020",
   "environment_variables": {},
   "exception": null,
   "input_path": "Untitled.ipynb",
   "output_path": "output.ipynb",
   "parameters": {
    "alpha": 0.6,
    "ratio": 0.1
   },
   "start_time": "2020-11-19T11:54:27.970016",
   "version": "2.2.2"
  }
 },
 "nbformat": 4,
 "nbformat_minor": 4
}

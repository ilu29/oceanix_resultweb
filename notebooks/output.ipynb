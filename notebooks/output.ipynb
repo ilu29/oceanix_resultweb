{
 "cells": [
  {
   "cell_type": "code",
   "execution_count": 1,
   "metadata": {
    "execution": {
     "iopub.execute_input": "2020-11-30T19:30:01.653074Z",
     "iopub.status.busy": "2020-11-30T19:30:01.652722Z",
     "iopub.status.idle": "2020-11-30T19:30:01.707339Z",
     "shell.execute_reply": "2020-11-30T19:30:01.707632Z"
    },
    "papermill": {
     "duration": 0.059062,
     "end_time": "2020-11-30T19:30:01.707743",
     "exception": false,
     "start_time": "2020-11-30T19:30:01.648681",
     "status": "completed"
    },
    "tags": []
   },
   "outputs": [
    {
     "name": "stdout",
     "output_type": "stream",
     "text": [
      "[0 1 2]\n"
     ]
    }
   ],
   "source": [
    "import numpy as np\n",
    "data=np.arange(3)\n",
    "print(data)\n",
    "np.savetxt('result.csv', data, delimiter=',')"
   ]
  }
 ],
 "metadata": {
  "kernelspec": {
   "display_name": "Python 3",
   "language": "python",
   "name": "python3"
  },
  "language_info": {
   "codemirror_mode": {
    "name": "ipython",
    "version": 3
   },
   "file_extension": ".py",
   "mimetype": "text/x-python",
   "name": "python",
   "nbconvert_exporter": "python",
   "pygments_lexer": "ipython3",
   "version": "3.7.7"
  },
  "papermill": {
   "default_parameters": {},
   "duration": 0.889901,
   "end_time": "2020-11-30T19:30:01.977153",
   "environment_variables": {},
   "exception": null,
   "input_path": "notebooks/temp.ipynb",
   "output_path": "notebooks/output.ipynb",
   "parameters": {},
   "start_time": "2020-11-30T19:30:01.087252",
   "version": "2.2.2"
  }
 },
 "nbformat": 4,
 "nbformat_minor": 4
}